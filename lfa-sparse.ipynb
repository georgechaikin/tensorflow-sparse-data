{
  "cells": [
    {
      "cell_type": "code",
      "execution_count": 1,
      "metadata": {
        "id": "XHRGoVDP2POp"
      },
      "outputs": [],
      "source": [
        "import os\n",
        "import numpy as np\n",
        "import pandas as pd\n",
        "import tensorflow as tf\n",
        "from tensorflow.keras.layers import Dense, Lambda, Add, Input, Activation, Multiply, Flatten, Reshape, Dot\n",
        "from tensorflow.keras.models import Model\n",
        "from tensorflow.keras import activations"
      ]
    },
    {
      "cell_type": "code",
      "execution_count": 2,
      "metadata": {
        "id": "1GJwWejb2POs"
      },
      "outputs": [],
      "source": [
        "DATA_PATH = os.path.join('..', 'data',)\n",
        "KT1_PATH = os.path.join('..', 'data', 'KT1')"
      ]
    },
    {
      "cell_type": "code",
      "execution_count": 3,
      "metadata": {
        "id": "VebblO0D2POt"
      },
      "outputs": [],
      "source": [
        "def get_correctness(user_df, questions_df):\n",
        "    \"\"\"\n",
        "    Gets the correctness of the user's answer\n",
        "    \"\"\"\n",
        "    merged_df = pd.merge(user_df, questions_df, on='question_id')\n",
        "    correctness = np.float32(\n",
        "        merged_df['user_answer'] == merged_df['correct_answer'])\n",
        "    return correctness\n",
        "\n",
        "\n",
        "def get_dataframe_extension(user_df, questions_df, keys=['tags'], user_id=None):\n",
        "    \"\"\"Merges user dataframe and question skills\"\"\"\n",
        "    merged_df = pd.merge(\n",
        "        user_df, questions_df[['question_id'] + keys], on='question_id')\n",
        "    if user_id is not None:\n",
        "        merged_df['user_id'] = [user_id] * merged_df.shape[0]\n",
        "    return merged_df\n",
        "\n",
        "\n",
        "def sorted_skill(skill):\n",
        "    \"\"\"Returns the string with sorted skills\"\"\"\n",
        "    sorted_skill = sorted(map(lambda x: int(x), skill.split(';')))\n",
        "    return ';'.join(map(lambda x: str(x), sorted_skill))\n",
        "\n",
        "\n",
        "def save_some_tags(skill, tags_number=1):\n",
        "    \"\"\"Saves first tags_number skills\"\"\"\n",
        "    return ';'.join(skill.split(';')[0:tags_number])\n",
        "\n",
        "\n",
        "def get_sparse(skills, skills_num, norm=True):\n",
        "    \"\"\"\n",
        "    Gets sparse representation of skills\n",
        "    Args:\n",
        "        skills (list): list with skill ids\n",
        "        skills_num (int): number of skills (vector length)\n",
        "        norm (bool): whether normalize vector or not (the vector is normalized such that it's components sum up to 1)\n",
        "    \"\"\"\n",
        "    skills_list = np.array(skills) - 1\n",
        "    skills_feature = np.eye(skills_num)[skills_list]\n",
        "    skills_feature = skills_feature.sum(axis=0)\n",
        "    if norm:\n",
        "        return (skills_feature / (skills_feature.sum())).tolist()\n",
        "    else:\n",
        "        return skills_feature.tolist()\n",
        "\n",
        "\n",
        "def flatten_skills(row):\n",
        "    \"\"\"\n",
        "    Flattens the dataframe row into the array of rows according to the number of skills\n",
        "    Args:\n",
        "        row (pandas.Series): row with 'skill_name' key\n",
        "    Returns:\n",
        "        Array with rows. For example:\n",
        "        >>> row = pd.Series(data={'question_id':'q1382', 'skill_name':'24;43;184;181', 'user_id':'u1', 'correct':1.0})\n",
        "        >>> flatten_skills(row) \n",
        "        array([['q1382', '24', 'u1', 1.0],\n",
        "            ['q1382', '43', 'u1', 1.0],\n",
        "            ['q1382', '184', 'u1', 1.0],\n",
        "            ['q1382', '181', 'u1', 1.0]], dtype=object)\n",
        "    \"\"\"\n",
        "    skill_list = row['skill_name'].split(';')\n",
        "    row_array = row.values\n",
        "    flatten_array = np.tile(row.values, (len(skill_list), 1))\n",
        "    skill_key_index = row.keys().tolist().index('skill_name')\n",
        "    flatten_array[:, skill_key_index] = skill_list\n",
        "    return flatten_array\n",
        "\n",
        "\n",
        "def get_flatten_df(df):\n",
        "    \"\"\"Gets the dataframe with flatten skills\"\"\"\n",
        "    flatten_df = df.apply(flatten_skills, axis=1)\n",
        "    keys = df.keys()\n",
        "    flatten_df = pd.DataFrame(np.concatenate(\n",
        "        flatten_df.tolist()), columns=keys)\n",
        "    return flatten_df"
      ]
    },
    {
      "cell_type": "code",
      "execution_count": 4,
      "metadata": {
        "colab": {
          "base_uri": "https://localhost:8080/"
        },
        "id": "Bsn8Hi-J2POu",
        "outputId": "d88e4b77-5926-447f-90ae-388d02b7025b"
      },
      "outputs": [
        {
          "data": {
            "text/plain": [
              "0             1;2;179;181\n",
              "1                15;2;182\n",
              "2            14;2;179;183\n",
              "3             9;2;179;184\n",
              "4             8;2;179;181\n",
              "               ...       \n",
              "13164       24;26;183;182\n",
              "13165       24;33;183;182\n",
              "13166       24;26;183;182\n",
              "13167       24;26;183;182\n",
              "13168    27;24;26;183;182\n",
              "Name: tags, Length: 13169, dtype: object"
            ]
          },
          "execution_count": 4,
          "metadata": {},
          "output_type": "execute_result"
        }
      ],
      "source": [
        "questions_df = pd.read_csv(os.path.join(KT1_PATH,'questions.csv'))\n",
        "questions_df.tags"
      ]
    },
    {
      "cell_type": "code",
      "execution_count": 5,
      "metadata": {
        "colab": {
          "base_uri": "https://localhost:8080/",
          "height": 423
        },
        "id": "UDQnAFdc2POv",
        "outputId": "ef250cd0-e919-425f-c151-bd3490c598e6"
      },
      "outputs": [
        {
          "data": {
            "text/html": [
              "<div>\n",
              "<style scoped>\n",
              "    .dataframe tbody tr th:only-of-type {\n",
              "        vertical-align: middle;\n",
              "    }\n",
              "\n",
              "    .dataframe tbody tr th {\n",
              "        vertical-align: top;\n",
              "    }\n",
              "\n",
              "    .dataframe thead th {\n",
              "        text-align: right;\n",
              "    }\n",
              "</style>\n",
              "<table border=\"1\" class=\"dataframe\">\n",
              "  <thead>\n",
              "    <tr style=\"text-align: right;\">\n",
              "      <th></th>\n",
              "      <th>question_id</th>\n",
              "      <th>skill_name</th>\n",
              "      <th>user_id</th>\n",
              "      <th>correct</th>\n",
              "    </tr>\n",
              "  </thead>\n",
              "  <tbody>\n",
              "    <tr>\n",
              "      <th>0</th>\n",
              "      <td>q5012</td>\n",
              "      <td>74</td>\n",
              "      <td>u1</td>\n",
              "      <td>0.0</td>\n",
              "    </tr>\n",
              "    <tr>\n",
              "      <th>1</th>\n",
              "      <td>q5012</td>\n",
              "      <td>74</td>\n",
              "      <td>u1</td>\n",
              "      <td>0.0</td>\n",
              "    </tr>\n",
              "    <tr>\n",
              "      <th>2</th>\n",
              "      <td>q4706</td>\n",
              "      <td>71</td>\n",
              "      <td>u1</td>\n",
              "      <td>1.0</td>\n",
              "    </tr>\n",
              "    <tr>\n",
              "      <th>3</th>\n",
              "      <td>q4366</td>\n",
              "      <td>103</td>\n",
              "      <td>u1</td>\n",
              "      <td>1.0</td>\n",
              "    </tr>\n",
              "    <tr>\n",
              "      <th>4</th>\n",
              "      <td>q4829</td>\n",
              "      <td>83</td>\n",
              "      <td>u1</td>\n",
              "      <td>0.0</td>\n",
              "    </tr>\n",
              "    <tr>\n",
              "      <th>...</th>\n",
              "      <td>...</td>\n",
              "      <td>...</td>\n",
              "      <td>...</td>\n",
              "      <td>...</td>\n",
              "    </tr>\n",
              "    <tr>\n",
              "      <th>259967</th>\n",
              "      <td>q687</td>\n",
              "      <td>24;43;182;181</td>\n",
              "      <td>u100901</td>\n",
              "      <td>1.0</td>\n",
              "    </tr>\n",
              "    <tr>\n",
              "      <th>259968</th>\n",
              "      <td>q1338</td>\n",
              "      <td>28;37;184;181</td>\n",
              "      <td>u100901</td>\n",
              "      <td>0.0</td>\n",
              "    </tr>\n",
              "    <tr>\n",
              "      <th>259969</th>\n",
              "      <td>q888</td>\n",
              "      <td>34;35;182;181</td>\n",
              "      <td>u100901</td>\n",
              "      <td>0.0</td>\n",
              "    </tr>\n",
              "    <tr>\n",
              "      <th>259970</th>\n",
              "      <td>q256</td>\n",
              "      <td>34;42;184;183</td>\n",
              "      <td>u100901</td>\n",
              "      <td>1.0</td>\n",
              "    </tr>\n",
              "    <tr>\n",
              "      <th>259971</th>\n",
              "      <td>q826</td>\n",
              "      <td>30;31;32;184;182</td>\n",
              "      <td>u100901</td>\n",
              "      <td>1.0</td>\n",
              "    </tr>\n",
              "  </tbody>\n",
              "</table>\n",
              "<p>259972 rows × 4 columns</p>\n",
              "</div>"
            ],
            "text/plain": [
              "       question_id        skill_name  user_id  correct\n",
              "0            q5012                74       u1      0.0\n",
              "1            q5012                74       u1      0.0\n",
              "2            q4706                71       u1      1.0\n",
              "3            q4366               103       u1      1.0\n",
              "4            q4829                83       u1      0.0\n",
              "...            ...               ...      ...      ...\n",
              "259967        q687     24;43;182;181  u100901      1.0\n",
              "259968       q1338     28;37;184;181  u100901      0.0\n",
              "259969        q888     34;35;182;181  u100901      0.0\n",
              "259970        q256     34;42;184;183  u100901      1.0\n",
              "259971        q826  30;31;32;184;182  u100901      1.0\n",
              "\n",
              "[259972 rows x 4 columns]"
            ]
          },
          "execution_count": 5,
          "metadata": {},
          "output_type": "execute_result"
        }
      ],
      "source": [
        "import os\n",
        "import glob\n",
        "import numpy as np\n",
        "import pandas as pd\n",
        "\n",
        "# user_index = 1\n",
        "# user_df, questions_df = pd.read_csv(f'u{user_index}.csv'),pd.read_csv('questions.csv')\n",
        "\n",
        "questions_df = pd.read_csv(os.path.join(KT1_PATH,'questions.csv'))\n",
        "questions_df = questions_df[questions_df.tags!='-1']\n",
        "\n",
        "data_list, train_data_list, test_data_list =[], [], []\n",
        "\n",
        "train_alpha = 1.0\n",
        "\n",
        "# Unite each user's interaction data together\n",
        "first_users_number = 1000\n",
        "kt_users = glob.glob(os.path.join(KT1_PATH,'u*.csv'))[:first_users_number]\n",
        "for user_fn in kt_users:\n",
        "  user_df = pd.read_csv(user_fn)\n",
        "  del user_df['timestamp']\n",
        "  del user_df['elapsed_time']\n",
        "  user_df = get_dataframe_extension(user_df, questions_df,  user_id=os.path.basename(user_fn).split('.')[0])\n",
        "  user_df['correct'] = get_correctness(user_df, questions_df)\n",
        "  del user_df['user_answer']\n",
        "  del user_df['solving_id']\n",
        "  # user_df['tags'] =  user_df['tags'].map(lambda skill: sorted_skill(skill))\n",
        "  # user_df['tags'] =  user_df['tags'].map(lambda skill: sorted_skill(save_some_tags(skill)))\n",
        "  # user_df['order_id'] = np.arange(0, user_df.shape[0])\n",
        "  user_df = user_df.rename(columns={'tags': 'skill_name'})\n",
        "  # data, test = user_df.iloc[:int(user_df.shape[0]*0.8)], user_df[int(user_df.shape[0]*0.8):]\n",
        "  data = user_df\n",
        "  train_data = user_df.iloc[:round(train_alpha*len(user_df))]\n",
        "  test_data = user_df.iloc[round(train_alpha*len(user_df)):]\n",
        "  train_data_list.append(train_data)\n",
        "  data_list.append(data)\n",
        "  test_data_list.append(test_data)\n",
        "\n",
        "data = pd.concat(data_list)\n",
        "data = data.reset_index(drop=True)\n",
        "train_data, test_data  = pd.concat(train_data_list).reset_index(drop=True), pd.concat(test_data_list).reset_index(drop=True)\n",
        "train_data"
      ]
    },
    {
      "cell_type": "code",
      "execution_count": 6,
      "metadata": {},
      "outputs": [],
      "source": [
        "def get_feature_description(df, norm = True, return_test_configs = True):\n",
        "    \"\"\"\n",
        "    Creates feature description matrix from dataframe data\n",
        "    \"\"\"\n",
        "    # TODO: make multiskill processing\n",
        "    # Students encoding\n",
        "    # codes, uniques = df['user_id'].factorize(sort=True)\n",
        "    students, students_indices = df['user_id'].factorize(sort=True)\n",
        "    students_indices = students_indices.to_list()\n",
        "    students = pd.get_dummies(students).to_numpy()\n",
        "    students_dict = {key: i for i, key in enumerate(students_indices)}\n",
        "    \n",
        "    skills, skills_indices = get_flatten_df(df)['skill_name'].apply(int).factorize(sort=True)\n",
        "    skills_indices = list(map(str, skills_indices))\n",
        "    skills_dict = {key: i for i, key in enumerate(skills_indices)}\n",
        "    skills = df['skill_name'].str.split(';').apply(lambda x: [skills_dict[skill] for skill in x])\n",
        "\n",
        "    skills = skills.apply(lambda x: get_sparse(x, len(skills_indices), norm))\n",
        "    skills = pd.DataFrame(skills.to_list(), columns=skills_indices)\n",
        "\n",
        "    opportunities = skills.groupby([df.user_id]).cumsum()\n",
        "    skills = skills.to_numpy()\n",
        "    opportunities = opportunities.to_numpy() * skills\n",
        "\n",
        "    skills = df['skill_name'].str.split(';').apply(lambda x: [skills_dict[skill] for skill in x])\n",
        "    skills = skills.apply(lambda x: get_sparse(x, len(skills_indices), norm = norm))\n",
        "    skills = pd.DataFrame(skills.to_list(), columns=skills_indices)\n",
        "\n",
        "    if return_test_configs:\n",
        "        return students.astype(np.float32), skills.astype(np.float32), opportunities.astype(np.float32), (students_dict, skills_dict, students_indices, skills_indices)\n",
        "    else:\n",
        "        return students.astype(np.float32), skills.astype(np.float32), opportunities.astype(np.float32)"
      ]
    },
    {
      "cell_type": "code",
      "execution_count": 7,
      "metadata": {},
      "outputs": [],
      "source": [
        "def get_split(dataset, split_size):\n",
        "        split_set = dataset.take(split_size)\n",
        "        dataset = dataset.skip(split_size)\n",
        "        return dataset, split_set\n",
        "\n",
        "def split_dataset(dataset, total_size, test_fraction, val_fraction=None):\n",
        "    test_size = np.ceil(test_fraction * total_size)\n",
        "    train_size = total_size - test_size\n",
        "\n",
        "    train_set, test_set = get_split(dataset, test_size)\n",
        "\n",
        "    val_set = None\n",
        "    if val_fraction:\n",
        "        val_size = np.ceil(train_size * val_fraction)\n",
        "        train_set, val_set = get_split(train_set, val_size)\n",
        "\n",
        "    return train_set, test_set, val_set"
      ]
    },
    {
      "cell_type": "code",
      "execution_count": 8,
      "metadata": {
        "id": "RdVcG-hg2POx"
      },
      "outputs": [
        {
          "name": "stdout",
          "output_type": "stream",
          "text": [
            "(259972, 1000) (259972, 187) (259972, 187) (259972, 1)\n"
          ]
        }
      ],
      "source": [
        "seed = 42\n",
        "test_fraction = 0.2\n",
        "val_fraction = 0.2\n",
        "students, skills, opportunities, test_configs = get_feature_description(train_data)\n",
        "sample_size = students.shape[0]\n",
        "max_opportunities = opportunities.max().copy()\n",
        "opportunities/=max_opportunities\n",
        "y_true = np.expand_dims(train_data['correct'].to_numpy(), axis = -1)\n",
        "\n",
        "students, skills, opportunities = tf.sparse.from_dense(students), tf.sparse.from_dense(skills), tf.sparse.from_dense(opportunities)\n",
        "\n",
        "students_shape, skills_shape, opportunities_shape, y_true_shape = students.shape,skills.shape, opportunities.shape, y_true.shape\n",
        "print(students.shape,skills.shape, opportunities.shape, y_true.shape)\n",
        "\n",
        "dataset = tf.data.Dataset.from_tensor_slices(((students, skills, opportunities), y_true))\n",
        "students_dataset = tf.data.Dataset.from_tensor_slices(students)\n",
        "train_set, test_set, val_set = split_dataset(dataset.shuffle(sample_size, seed = seed), sample_size, test_fraction, val_fraction)\n",
        "\n",
        "del students, skills, opportunities, y_true\n",
        "del dataset"
      ]
    },
    {
      "cell_type": "code",
      "execution_count": 9,
      "metadata": {},
      "outputs": [
        {
          "name": "stdout",
          "output_type": "stream",
          "text": [
            "((<tensorflow.python.framework.sparse_tensor.SparseTensor object at 0x0000017093D4FA08>, <tensorflow.python.framework.sparse_tensor.SparseTensor object at 0x000001709380D148>, <tensorflow.python.framework.sparse_tensor.SparseTensor object at 0x00000170938257C8>), <tf.Tensor: shape=(1,), dtype=float32, numpy=array([1.], dtype=float32)>)\n"
          ]
        }
      ],
      "source": [
        "for batch in train_set:\n",
        "    print(batch)\n",
        "    break"
      ]
    },
    {
      "attachments": {},
      "cell_type": "markdown",
      "metadata": {
        "id": "y2D3W5gGPtTQ"
      },
      "source": [
        "## Simple Factorization Machine"
      ]
    },
    {
      "cell_type": "code",
      "execution_count": 10,
      "metadata": {
        "id": "n0rrt_QEHV_O"
      },
      "outputs": [],
      "source": [
        "class SimpleFMClassifier(tf.keras.layers.Layer):\n",
        "    \"\"\"\n",
        "    Simple FM\n",
        "    \"\"\"\n",
        "    def __init__(self, features_num, k = 2):\n",
        "        super().__init__()\n",
        "        self.features_num = features_num\n",
        "        self.k = k\n",
        "    def build(self, input_shape):\n",
        "        self.linear= Dense(1, input_shape = (self.features_num,), use_bias = True, name = 'linear')\n",
        "        self.add = Add()\n",
        "        self.v = self.add_weight(shape = (self.features_num, self.k),\n",
        "                                initializer='random_normal',\n",
        "                                trainable=True, name = 'vectors')\n",
        "        self.activation = tf.keras.activations.sigmoid\n",
        "    def call(self, X):\n",
        "        out_linear = self.linear(X)\n",
        "        out_1 = tf.reduce_sum(tf.square(tf.sparse.sparse_dense_matmul(X, self.v)), axis = 1, keepdims=True)\n",
        "        out_2 = tf.reduce_sum(tf.sparse.sparse_dense_matmul(tf.square(X), tf.square(self.v)), axis=1, keepdims=True)\n",
        "        out_multiplications = (out_1 - out_2)/2\n",
        "        return self.activation(self.add([out_linear, out_multiplications]))"
      ]
    },
    {
      "cell_type": "code",
      "execution_count": 11,
      "metadata": {},
      "outputs": [],
      "source": [
        "def get_simple_fm(shape, k):\n",
        "    input = Input(shape = (shape,), sparse = True)\n",
        "    fm_output = SimpleFMClassifier(shape, k)(input)\n",
        "    simple_fm = tf.keras.models.Model(inputs = input, outputs = fm_output)\n",
        "    optimizer = tf.optimizers.RMSprop()\n",
        "    simple_fm.compile(\n",
        "        optimizer = optimizer,\n",
        "        loss = tf.keras.losses.BinaryCrossentropy(from_logits=False),\n",
        "        metrics=\n",
        "            [\n",
        "            tf.keras.metrics.BinaryAccuracy(),\n",
        "            tf.keras.metrics.Precision(),\n",
        "            tf.keras.metrics.Recall(),\n",
        "            tf.keras.metrics.AUC()\n",
        "            ]\n",
        "    )\n",
        "    return simple_fm"
      ]
    },
    {
      "cell_type": "code",
      "execution_count": 12,
      "metadata": {},
      "outputs": [],
      "source": [
        "fm_train_set = train_set.map(lambda features, labels: (tf.sparse.concat(0, list(features)), labels))\n",
        "fm_test_set = test_set.map(lambda features, labels: (tf.sparse.concat(0, list(features)), labels))\n",
        "fm_val_set = val_set.map(lambda features, labels: (tf.sparse.concat(0, list(features)), labels))"
      ]
    },
    {
      "cell_type": "code",
      "execution_count": 13,
      "metadata": {},
      "outputs": [
        {
          "name": "stdout",
          "output_type": "stream",
          "text": [
            "(<tensorflow.python.framework.sparse_tensor.SparseTensor object at 0x00000170FFE510C8>, <tf.Tensor: shape=(1,), dtype=float32, numpy=array([1.], dtype=float32)>)\n"
          ]
        }
      ],
      "source": [
        "for batch in fm_train_set:\n",
        "    print(batch)\n",
        "    break"
      ]
    },
    {
      "cell_type": "code",
      "execution_count": 14,
      "metadata": {
        "colab": {
          "base_uri": "https://localhost:8080/"
        },
        "id": "TVddoBk3J_FA",
        "outputId": "fc53361b-fb94-4e41-f9be-c5d0f9618b2f"
      },
      "outputs": [
        {
          "name": "stdout",
          "output_type": "stream",
          "text": [
            "2\n"
          ]
        },
        {
          "name": "stderr",
          "output_type": "stream",
          "text": [
            "c:\\Users\\globalpie\\Projects\\tensorflow_env\\lib\\site-packages\\tensorflow\\python\\framework\\indexed_slices.py:446: UserWarning: Converting sparse IndexedSlices(IndexedSlices(indices=Tensor(\"gradient_tape/model/simple_fm_classifier/linear/embedding_lookup_sparse/Reshape_1:0\", shape=(None,), dtype=int32), values=Tensor(\"gradient_tape/model/simple_fm_classifier/linear/embedding_lookup_sparse/Reshape:0\", shape=(None, 1), dtype=float32), dense_shape=Tensor(\"gradient_tape/model/simple_fm_classifier/linear/embedding_lookup_sparse/Cast:0\", shape=(2,), dtype=int32))) to a dense Tensor of unknown shape. This may consume a large amount of memory.\n",
            "  \"shape. This may consume a large amount of memory.\" % value)\n"
          ]
        },
        {
          "name": "stdout",
          "output_type": "stream",
          "text": [
            "5\n"
          ]
        },
        {
          "name": "stderr",
          "output_type": "stream",
          "text": [
            "c:\\Users\\globalpie\\Projects\\tensorflow_env\\lib\\site-packages\\tensorflow\\python\\framework\\indexed_slices.py:446: UserWarning: Converting sparse IndexedSlices(IndexedSlices(indices=Tensor(\"gradient_tape/model_1/simple_fm_classifier_1/linear/embedding_lookup_sparse/Reshape_1:0\", shape=(None,), dtype=int32), values=Tensor(\"gradient_tape/model_1/simple_fm_classifier_1/linear/embedding_lookup_sparse/Reshape:0\", shape=(None, 1), dtype=float32), dense_shape=Tensor(\"gradient_tape/model_1/simple_fm_classifier_1/linear/embedding_lookup_sparse/Cast:0\", shape=(2,), dtype=int32))) to a dense Tensor of unknown shape. This may consume a large amount of memory.\n",
            "  \"shape. This may consume a large amount of memory.\" % value)\n"
          ]
        },
        {
          "name": "stdout",
          "output_type": "stream",
          "text": [
            "10\n"
          ]
        },
        {
          "name": "stderr",
          "output_type": "stream",
          "text": [
            "c:\\Users\\globalpie\\Projects\\tensorflow_env\\lib\\site-packages\\tensorflow\\python\\framework\\indexed_slices.py:446: UserWarning: Converting sparse IndexedSlices(IndexedSlices(indices=Tensor(\"gradient_tape/model_2/simple_fm_classifier_2/linear/embedding_lookup_sparse/Reshape_1:0\", shape=(None,), dtype=int32), values=Tensor(\"gradient_tape/model_2/simple_fm_classifier_2/linear/embedding_lookup_sparse/Reshape:0\", shape=(None, 1), dtype=float32), dense_shape=Tensor(\"gradient_tape/model_2/simple_fm_classifier_2/linear/embedding_lookup_sparse/Cast:0\", shape=(2,), dtype=int32))) to a dense Tensor of unknown shape. This may consume a large amount of memory.\n",
            "  \"shape. This may consume a large amount of memory.\" % value)\n"
          ]
        }
      ],
      "source": [
        "epochs = 100\n",
        "batch_size = 4096*8\n",
        "shape = students_shape[-1] + 2* skills_shape[-1]\n",
        "k_params = [2,5,10]\n",
        "\n",
        "simple_fm_models = dict()\n",
        "for k in k_params:\n",
        "    print(k)\n",
        "    simple_fm = get_simple_fm(shape, k)\n",
        "    simple_fm_models[k] = {'model': simple_fm}\n",
        "    simple_fm_history = simple_fm.fit(fm_train_set.batch(batch_size), epochs = epochs, validation_data = fm_val_set.batch(4096), verbose = 0)\n",
        "    simple_fm_models[k]['history'] = simple_fm_history"
      ]
    },
    {
      "cell_type": "code",
      "execution_count": 15,
      "metadata": {},
      "outputs": [
        {
          "data": {
            "image/png": "[encoded data removed]",
            "text/plain": [
              "<Figure size 1440x360 with 3 Axes>"
            ]
          },
          "metadata": {
            "needs_background": "light"
          },
          "output_type": "display_data"
        }
      ],
      "source": [
        "import matplotlib.pyplot as plt\n",
        "# Multiskill\n",
        "plt.figure(figsize=[20, 5])\n",
        "for i,k in enumerate(k_params):\n",
        "    plt.subplot(1,len(k_params), i+1)\n",
        "    history = simple_fm_models[k]['history']\n",
        "    epochs = history.epoch\n",
        "    loss = history.history['loss']\n",
        "    val_loss = history.history['val_loss']\n",
        "    plt.plot(epochs, loss, label = f'{k}: loss')\n",
        "    plt.plot(epochs, val_loss, label = f'{k}: val_loss')\n",
        "    plt.legend()\n",
        "    plt.grid()\n",
        "plt.show()"
      ]
    },
    {
      "cell_type": "code",
      "execution_count": 16,
      "metadata": {},
      "outputs": [
        {
          "name": "stdout",
          "output_type": "stream",
          "text": [
            "2:\n",
            "13/13 [==============================] - 2s 74ms/step - loss: 0.5868 - binary_accuracy: 0.7024 - precision: 0.7065 - recall: 0.9577 - auc: 0.6704\n",
            "[0.5867606997489929, 0.7023944854736328, 0.7064982652664185, 0.9577324390411377, 0.6703505516052246]\n",
            "5:\n",
            "13/13 [==============================] - 2s 68ms/step - loss: 0.5861 - binary_accuracy: 0.7017 - precision_1: 0.7066 - recall_1: 0.9531 - auc_1: 0.6731\n",
            "[0.5860610008239746, 0.7016828656196594, 0.7066003680229187, 0.953143298625946, 0.673107385635376]\n",
            "10:\n",
            "13/13 [==============================] - 2s 72ms/step - loss: 0.5800 - binary_accuracy: 0.7075 - precision_2: 0.7130 - recall_2: 0.9520 - auc_2: 0.6776\n",
            "[0.5799511671066284, 0.7074910998344421, 0.7130026817321777, 0.9520313143730164, 0.677561342716217]\n"
          ]
        }
      ],
      "source": [
        "for i, k in enumerate(k_params):\n",
        "    print(f'{k}:')\n",
        "    print(simple_fm_models[k]['model'].evaluate(fm_test_set.batch(4096)))"
      ]
    },
    {
      "cell_type": "markdown",
      "metadata": {
        "id": "sHrLlD2kPzvY"
      },
      "source": [
        "## Special FM"
      ]
    },
    {
      "cell_type": "code",
      "execution_count": 30,
      "metadata": {
        "id": "sQTkkmJR-7DT"
      },
      "outputs": [],
      "source": [
        "class SpecialFMClassifier(tf.keras.layers.Layer):\n",
        "    \"\"\"\n",
        "    Special FM version\n",
        "    \"\"\"\n",
        "    def __init__(self, students_num, skills_num, k = 2):\n",
        "        super().__init__()\n",
        "        self.students_num = students_num\n",
        "        self.skills_num = skills_num\n",
        "        # self.opportunities = opportunities\n",
        "        self.k = k\n",
        "\n",
        "    def build(self, input_shape):\n",
        "        self.linear_students = Dense(1, input_shape = (self.students_num,), use_bias = False, name = 'students')\n",
        "        self.linear_skills = Dense(1, input_shape = (self.skills_num,), use_bias = False, name = 'skills')\n",
        "        self.linear_interactions = Dense(1, input_shape = (self.skills_num,), use_bias = False, name = 'interactions')\n",
        "        self.add = Add()\n",
        "        self.v = self.add_weight(shape = (self.skills_num, self.k),\n",
        "                                initializer='random_normal',\n",
        "                                trainable=True, name = 'vectors')\n",
        "        self.activation = tf.keras.activations.sigmoid\n",
        "    def call(self, X):\n",
        "        students, skills, interactions = X[0], X[1], X[2]\n",
        "        out_students = self.linear_students(students)\n",
        "        out_skills = self.linear_skills(skills)\n",
        "        out_interactions = self.linear_interactions(interactions)\n",
        "        out_1 = tf.reduce_sum(tf.square(tf.sparse.sparse_dense_matmul(interactions, self.v)), axis = 1, keepdims=True)\n",
        "        out_2 = tf.reduce_sum(tf.sparse.sparse_dense_matmul(tf.square(interactions), tf.square(self.v)), axis=1, keepdims=True)\n",
        "        out_multiplications = (out_1 - out_2)/2\n",
        "        return self.activation(self.add([out_students, out_skills, out_interactions, out_multiplications]))"
      ]
    },
    {
      "cell_type": "code",
      "execution_count": 31,
      "metadata": {
        "colab": {
          "base_uri": "https://localhost:8080/"
        },
        "id": "pl-7gtpU-7DT",
        "outputId": "b5ae82ba-ac43-486b-a754-a6eb05ec2e49"
      },
      "outputs": [],
      "source": [
        "def get_special_fm(alpha_shape, beta_shape, k):\n",
        "    input1, input2, input3 = Input(shape = (alpha_shape,), sparse=True), Input(shape = (beta_shape,), sparse=True), Input(shape = (beta_shape,), sparse=True)\n",
        "    # fm = FMClassifier(alpha_shape, beta_shape)\n",
        "    fm_output = SpecialFMClassifier(alpha_shape, beta_shape, k=10)([input1, input2, input3])\n",
        "    fm = tf.keras.models.Model(inputs = [input1, input2, input3], outputs = fm_output)\n",
        "    optimizer = tf.optimizers.RMSprop()\n",
        "    fm.compile(\n",
        "        optimizer = optimizer,\n",
        "        loss = tf.keras.losses.BinaryCrossentropy(from_logits=False),\n",
        "        metrics=\n",
        "            [\n",
        "            tf.keras.metrics.BinaryAccuracy(),\n",
        "            tf.keras.metrics.Precision(),\n",
        "            tf.keras.metrics.Recall(),\n",
        "            tf.keras.metrics.AUC()\n",
        "            ]\n",
        "    )\n",
        "    return fm"
      ]
    },
    {
      "cell_type": "code",
      "execution_count": 32,
      "metadata": {
        "colab": {
          "base_uri": "https://localhost:8080/"
        },
        "id": "n4DyQ0tO-7DU",
        "outputId": "5b6c70c0-4fc7-45e6-e5b1-599c7469209a"
      },
      "outputs": [
        {
          "name": "stderr",
          "output_type": "stream",
          "text": [
            "c:\\Users\\globalpie\\Projects\\tensorflow_env\\lib\\site-packages\\tensorflow\\python\\framework\\indexed_slices.py:446: UserWarning: Converting sparse IndexedSlices(IndexedSlices(indices=Tensor(\"gradient_tape/model_10/special_fm_classifier/interactions/embedding_lookup_sparse/Reshape_1:0\", shape=(None,), dtype=int32), values=Tensor(\"gradient_tape/model_10/special_fm_classifier/interactions/embedding_lookup_sparse/Reshape:0\", shape=(None, 1), dtype=float32), dense_shape=Tensor(\"gradient_tape/model_10/special_fm_classifier/interactions/embedding_lookup_sparse/Cast:0\", shape=(2,), dtype=int32))) to a dense Tensor of unknown shape. This may consume a large amount of memory.\n",
            "  \"shape. This may consume a large amount of memory.\" % value)\n",
            "c:\\Users\\globalpie\\Projects\\tensorflow_env\\lib\\site-packages\\tensorflow\\python\\framework\\indexed_slices.py:446: UserWarning: Converting sparse IndexedSlices(IndexedSlices(indices=Tensor(\"gradient_tape/model_10/special_fm_classifier/students/embedding_lookup_sparse/Reshape_1:0\", shape=(None,), dtype=int32), values=Tensor(\"gradient_tape/model_10/special_fm_classifier/students/embedding_lookup_sparse/Reshape:0\", shape=(None, 1), dtype=float32), dense_shape=Tensor(\"gradient_tape/model_10/special_fm_classifier/students/embedding_lookup_sparse/Cast:0\", shape=(2,), dtype=int32))) to a dense Tensor of unknown shape. This may consume a large amount of memory.\n",
            "  \"shape. This may consume a large amount of memory.\" % value)\n",
            "c:\\Users\\globalpie\\Projects\\tensorflow_env\\lib\\site-packages\\tensorflow\\python\\framework\\indexed_slices.py:446: UserWarning: Converting sparse IndexedSlices(IndexedSlices(indices=Tensor(\"gradient_tape/model_10/special_fm_classifier/skills/embedding_lookup_sparse/Reshape_1:0\", shape=(None,), dtype=int32), values=Tensor(\"gradient_tape/model_10/special_fm_classifier/skills/embedding_lookup_sparse/Reshape:0\", shape=(None, 1), dtype=float32), dense_shape=Tensor(\"gradient_tape/model_10/special_fm_classifier/skills/embedding_lookup_sparse/Cast:0\", shape=(2,), dtype=int32))) to a dense Tensor of unknown shape. This may consume a large amount of memory.\n",
            "  \"shape. This may consume a large amount of memory.\" % value)\n",
            "c:\\Users\\globalpie\\Projects\\tensorflow_env\\lib\\site-packages\\tensorflow\\python\\framework\\indexed_slices.py:446: UserWarning: Converting sparse IndexedSlices(IndexedSlices(indices=Tensor(\"gradient_tape/model_11/special_fm_classifier_1/interactions/embedding_lookup_sparse/Reshape_1:0\", shape=(None,), dtype=int32), values=Tensor(\"gradient_tape/model_11/special_fm_classifier_1/interactions/embedding_lookup_sparse/Reshape:0\", shape=(None, 1), dtype=float32), dense_shape=Tensor(\"gradient_tape/model_11/special_fm_classifier_1/interactions/embedding_lookup_sparse/Cast:0\", shape=(2,), dtype=int32))) to a dense Tensor of unknown shape. This may consume a large amount of memory.\n",
            "  \"shape. This may consume a large amount of memory.\" % value)\n",
            "c:\\Users\\globalpie\\Projects\\tensorflow_env\\lib\\site-packages\\tensorflow\\python\\framework\\indexed_slices.py:446: UserWarning: Converting sparse IndexedSlices(IndexedSlices(indices=Tensor(\"gradient_tape/model_11/special_fm_classifier_1/students/embedding_lookup_sparse/Reshape_1:0\", shape=(None,), dtype=int32), values=Tensor(\"gradient_tape/model_11/special_fm_classifier_1/students/embedding_lookup_sparse/Reshape:0\", shape=(None, 1), dtype=float32), dense_shape=Tensor(\"gradient_tape/model_11/special_fm_classifier_1/students/embedding_lookup_sparse/Cast:0\", shape=(2,), dtype=int32))) to a dense Tensor of unknown shape. This may consume a large amount of memory.\n",
            "  \"shape. This may consume a large amount of memory.\" % value)\n",
            "c:\\Users\\globalpie\\Projects\\tensorflow_env\\lib\\site-packages\\tensorflow\\python\\framework\\indexed_slices.py:446: UserWarning: Converting sparse IndexedSlices(IndexedSlices(indices=Tensor(\"gradient_tape/model_11/special_fm_classifier_1/skills/embedding_lookup_sparse/Reshape_1:0\", shape=(None,), dtype=int32), values=Tensor(\"gradient_tape/model_11/special_fm_classifier_1/skills/embedding_lookup_sparse/Reshape:0\", shape=(None, 1), dtype=float32), dense_shape=Tensor(\"gradient_tape/model_11/special_fm_classifier_1/skills/embedding_lookup_sparse/Cast:0\", shape=(2,), dtype=int32))) to a dense Tensor of unknown shape. This may consume a large amount of memory.\n",
            "  \"shape. This may consume a large amount of memory.\" % value)\n",
            "c:\\Users\\globalpie\\Projects\\tensorflow_env\\lib\\site-packages\\tensorflow\\python\\framework\\indexed_slices.py:446: UserWarning: Converting sparse IndexedSlices(IndexedSlices(indices=Tensor(\"gradient_tape/model_12/special_fm_classifier_2/interactions/embedding_lookup_sparse/Reshape_1:0\", shape=(None,), dtype=int32), values=Tensor(\"gradient_tape/model_12/special_fm_classifier_2/interactions/embedding_lookup_sparse/Reshape:0\", shape=(None, 1), dtype=float32), dense_shape=Tensor(\"gradient_tape/model_12/special_fm_classifier_2/interactions/embedding_lookup_sparse/Cast:0\", shape=(2,), dtype=int32))) to a dense Tensor of unknown shape. This may consume a large amount of memory.\n",
            "  \"shape. This may consume a large amount of memory.\" % value)\n",
            "c:\\Users\\globalpie\\Projects\\tensorflow_env\\lib\\site-packages\\tensorflow\\python\\framework\\indexed_slices.py:446: UserWarning: Converting sparse IndexedSlices(IndexedSlices(indices=Tensor(\"gradient_tape/model_12/special_fm_classifier_2/students/embedding_lookup_sparse/Reshape_1:0\", shape=(None,), dtype=int32), values=Tensor(\"gradient_tape/model_12/special_fm_classifier_2/students/embedding_lookup_sparse/Reshape:0\", shape=(None, 1), dtype=float32), dense_shape=Tensor(\"gradient_tape/model_12/special_fm_classifier_2/students/embedding_lookup_sparse/Cast:0\", shape=(2,), dtype=int32))) to a dense Tensor of unknown shape. This may consume a large amount of memory.\n",
            "  \"shape. This may consume a large amount of memory.\" % value)\n",
            "c:\\Users\\globalpie\\Projects\\tensorflow_env\\lib\\site-packages\\tensorflow\\python\\framework\\indexed_slices.py:446: UserWarning: Converting sparse IndexedSlices(IndexedSlices(indices=Tensor(\"gradient_tape/model_12/special_fm_classifier_2/skills/embedding_lookup_sparse/Reshape_1:0\", shape=(None,), dtype=int32), values=Tensor(\"gradient_tape/model_12/special_fm_classifier_2/skills/embedding_lookup_sparse/Reshape:0\", shape=(None, 1), dtype=float32), dense_shape=Tensor(\"gradient_tape/model_12/special_fm_classifier_2/skills/embedding_lookup_sparse/Cast:0\", shape=(2,), dtype=int32))) to a dense Tensor of unknown shape. This may consume a large amount of memory.\n",
            "  \"shape. This may consume a large amount of memory.\" % value)\n"
          ]
        }
      ],
      "source": [
        "alpha_shape, beta_shape = students_shape[-1], skills_shape[-1]\n",
        "epochs = 100\n",
        "batch_size = 4096*8\n",
        "\n",
        "k_params = [2,5,10]\n",
        "special_fm_models = dict()\n",
        "for k in k_params:\n",
        "    special_fm = get_special_fm(alpha_shape, beta_shape, k)\n",
        "    special_fm_models[k] = {'model': special_fm}\n",
        "    # special_fm_history = special_fm.fit([students, skills, interactions], y_true, batch_size = batch_size, epochs = epochs, verbose = 0)\n",
        "    special_fm_history = special_fm.fit(train_set.batch(batch_size), epochs = epochs, validation_data = val_set.batch(4096), verbose = 0)\n",
        "    special_fm_models[k]['history'] = special_fm_history"
      ]
    },
    {
      "cell_type": "code",
      "execution_count": 33,
      "metadata": {},
      "outputs": [
        {
          "data": {
            "image/png": "[encoded data removed]",
            "text/plain": [
              "<Figure size 1440x360 with 3 Axes>"
            ]
          },
          "metadata": {
            "needs_background": "light"
          },
          "output_type": "display_data"
        }
      ],
      "source": [
        "import matplotlib.pyplot as plt\n",
        "# Interactions\n",
        "plt.figure(figsize=[20, 5])\n",
        "for i,k in enumerate(k_params):\n",
        "    plt.subplot(1,len(k_params), i+1)\n",
        "    history = special_fm_models[k]['history']\n",
        "    epochs = history.epoch\n",
        "    loss = history.history['loss']\n",
        "    val_loss = history.history['val_loss']\n",
        "    plt.plot(epochs, loss, label = f'{k}: loss')\n",
        "    plt.plot(epochs, val_loss, label = f'{k}: val_loss')\n",
        "    plt.legend()\n",
        "    plt.grid()\n",
        "plt.show()"
      ]
    },
    {
      "cell_type": "code",
      "execution_count": 34,
      "metadata": {},
      "outputs": [
        {
          "name": "stdout",
          "output_type": "stream",
          "text": [
            "2:\n",
            "13/13 [==============================] - 2s 73ms/step - loss: 0.5988 - binary_accuracy: 0.6944 - precision_10: 0.6944 - recall_10: 0.9755 - auc_10: 0.6590\n",
            "[0.598760187625885, 0.6944129467010498, 0.6943800449371338, 0.975492000579834, 0.6590436697006226]\n",
            "5:\n",
            "13/13 [==============================] - 2s 72ms/step - loss: 0.5978 - binary_accuracy: 0.6960 - precision_11: 0.6967 - recall_11: 0.9746 - auc_11: 0.6545\n",
            "[0.5977691411972046, 0.696028470993042, 0.6967213153839111, 0.9745654463768005, 0.6545010209083557]\n",
            "10:\n",
            "13/13 [==============================] - 2s 68ms/step - loss: 0.5981 - binary_accuracy: 0.6955 - precision_12: 0.6961 - recall_12: 0.9745 - auc_12: 0.6573\n",
            "[0.5980575680732727, 0.6955091953277588, 0.6960936188697815, 0.974507212638855, 0.657275378704071]\n"
          ]
        }
      ],
      "source": [
        "for i, k in enumerate(k_params):\n",
        "    print(f'{k}:')\n",
        "    print(special_fm_models[k]['model'].evaluate(test_set.batch(4096)))"
      ]
    },
    {
      "cell_type": "markdown",
      "metadata": {
        "id": "SV-Rc3QVP7Y-"
      },
      "source": [
        "## LFA"
      ]
    },
    {
      "cell_type": "code",
      "execution_count": null,
      "metadata": {},
      "outputs": [],
      "source": [
        "def get_lfa(alpha_shape, beta_shape, sparse = True):\n",
        "    input1, input2, input3 = Input(shape = (alpha_shape,), sparse = True), Input(shape = (beta_shape,), sparse = True), Input(shape = (beta_shape,), sparse = True)\n",
        "    students = Dense(1, use_bias = False)\n",
        "    skills = Dense(1, use_bias = False)\n",
        "    interactions = Dense(1, use_bias = False)\n",
        "    activation = Activation(activations.sigmoid)\n",
        "    add = Add()\n",
        "    output = add([students(input1), skills(input2), interactions(input3)])\n",
        "    output = activation(output)\n",
        "    model = Model(inputs = [input1, input2, input3], outputs = output)\n",
        "    # print(interactions_input1.shape, interactions_input2.shape,flatten(dot))\n",
        "    return model"
      ]
    },
    {
      "cell_type": "code",
      "execution_count": null,
      "metadata": {
        "colab": {
          "base_uri": "https://localhost:8080/"
        },
        "id": "-EuW4qDp2POz",
        "outputId": "9e7dc779-e7fe-42dc-c6ad-8af132fa14ff"
      },
      "outputs": [
        {
          "name": "stdout",
          "output_type": "stream",
          "text": [
            "Model: \"model_9\"\n",
            "__________________________________________________________________________________________________\n",
            " Layer (type)                   Output Shape         Param #     Connected to                     \n",
            "==================================================================================================\n",
            " input_28 (InputLayer)          [(None, 1000)]       0           []                               \n",
            "                                                                                                  \n",
            " input_29 (InputLayer)          [(None, 187)]        0           []                               \n",
            "                                                                                                  \n",
            " input_30 (InputLayer)          [(None, 187)]        0           []                               \n",
            "                                                                                                  \n",
            " dense_27 (Dense)               (None, 1)            1000        ['input_28[0][0]']               \n",
            "                                                                                                  \n",
            " dense_28 (Dense)               (None, 1)            187         ['input_29[0][0]']               \n",
            "                                                                                                  \n",
            " dense_29 (Dense)               (None, 1)            187         ['input_30[0][0]']               \n",
            "                                                                                                  \n",
            " add_9 (Add)                    (None, 1)            0           ['dense_27[0][0]',               \n",
            "                                                                  'dense_28[0][0]',               \n",
            "                                                                  'dense_29[0][0]']               \n",
            "                                                                                                  \n",
            " activation_9 (Activation)      (None, 1)            0           ['add_9[0][0]']                  \n",
            "                                                                                                  \n",
            "==================================================================================================\n",
            "Total params: 1,374\n",
            "Trainable params: 1,374\n",
            "Non-trainable params: 0\n",
            "__________________________________________________________________________________________________\n"
          ]
        }
      ],
      "source": [
        "alpha_shape, beta_shape = students_shape[-1], skills_shape[-1]\n",
        "lfa = get_lfa(alpha_shape, beta_shape)\n",
        "# optimizer = tf.optimizers.SGD()\n",
        "optimizer = tf.optimizers.RMSprop()\n",
        "lfa.compile(\n",
        "    optimizer = optimizer,\n",
        "    # loss = tf.keras.losses.BinaryCrossentropy(from_logits=False),\n",
        "    loss = 'binary_crossentropy',\n",
        "    metrics=\n",
        "        [\n",
        "        tf.keras.metrics.BinaryAccuracy(),\n",
        "        tf.keras.metrics.Precision(),\n",
        "        tf.keras.metrics.Recall(),\n",
        "        tf.keras.metrics.AUC()\n",
        "        ]\n",
        ")\n",
        "lfa.summary()"
      ]
    },
    {
      "cell_type": "code",
      "execution_count": null,
      "metadata": {
        "colab": {
          "base_uri": "https://localhost:8080/"
        },
        "id": "Hv7KiLGXcGxI",
        "outputId": "afad52c3-602b-4fb8-856b-b70832005de6"
      },
      "outputs": [],
      "source": [
        "epochs = 100\n",
        "batch_size = 4096*10\n",
        "lfa_history = lfa.fit(train_set.batch(batch_size), epochs = epochs, validation_data=val_set.batch(4096), verbose=0)"
      ]
    },
    {
      "cell_type": "code",
      "execution_count": 139,
      "metadata": {
        "colab": {
          "base_uri": "https://localhost:8080/",
          "height": 265
        },
        "id": "XYCtgdUf-7DW",
        "outputId": "05a888f4-a2e3-4af7-b324-66585779ad1a"
      },
      "outputs": [
        {
          "data": {
            "image/png": "[encoded data removed]",
            "text/plain": [
              "<Figure size 432x288 with 1 Axes>"
            ]
          },
          "metadata": {
            "needs_background": "light"
          },
          "output_type": "display_data"
        }
      ],
      "source": [
        "import matplotlib.pyplot as plt\n",
        "# Multiskill\n",
        "epochs = lfa_history.epoch\n",
        "loss = lfa_history.history['loss']\n",
        "val_loss = lfa_history.history['val_loss']\n",
        "plt.plot(epochs, loss, label = 'loss')\n",
        "plt.plot(epochs, val_loss, label = 'val loss')\n",
        "plt.legend()\n",
        "plt.grid()\n",
        "plt.show()"
      ]
    },
    {
      "cell_type": "code",
      "execution_count": 136,
      "metadata": {},
      "outputs": [
        {
          "name": "stdout",
          "output_type": "stream",
          "text": [
            "13/13 [==============================] - 3s 106ms/step - loss: 0.5964 - binary_accuracy: 0.6938 - precision_9: 0.6957 - recall_9: 0.9687 - auc_9: 0.6566\n"
          ]
        },
        {
          "data": {
            "text/plain": [
              "[0.5964477062225342,\n",
              " 0.693835973739624,\n",
              " 0.6957101821899414,\n",
              " 0.968733012676239,\n",
              " 0.6566184163093567]"
            ]
          },
          "execution_count": 136,
          "metadata": {},
          "output_type": "execute_result"
        }
      ],
      "source": [
        "lfa.evaluate(test_set.batch(4096))"
      ]
    },
    {
      "attachments": {},
      "cell_type": "markdown",
      "metadata": {},
      "source": [
        "## Logistic regression"
      ]
    },
    {
      "cell_type": "code",
      "execution_count": 172,
      "metadata": {},
      "outputs": [
        {
          "name": "stdout",
          "output_type": "stream",
          "text": [
            "(<tensorflow.python.framework.sparse_tensor.SparseTensor object at 0x0000014DF3992D88>, <tensorflow.python.framework.sparse_tensor.SparseTensor object at 0x0000014DF3975388>, <tensorflow.python.framework.sparse_tensor.SparseTensor object at 0x0000014DF39CFDC8>)\n",
            "[<tensorflow.python.framework.sparse_tensor.SparseTensor object at 0x0000014DF3992D88>, <tensorflow.python.framework.sparse_tensor.SparseTensor object at 0x0000014DF3975388>, <tensorflow.python.framework.sparse_tensor.SparseTensor object at 0x0000014DF39CFDC8>]\n",
            "<class 'tuple'>\n",
            "<class 'tensorflow.python.framework.sparse_tensor.SparseTensor'>\n"
          ]
        }
      ],
      "source": [
        "for batch in train_set.batch(4):\n",
        "    print(batch[0])\n",
        "    print(list(batch[0]))\n",
        "    print(type(batch[0]))\n",
        "    # print(tf.sparse.concat(1, list(batch[0])))\n",
        "    print(type(tf.sparse.concat(1, list(batch[0]))))\n",
        "    break"
      ]
    },
    {
      "cell_type": "code",
      "execution_count": 37,
      "metadata": {},
      "outputs": [],
      "source": [
        "lr_train_set = train_set.map(lambda features, labels: (tf.sparse.concat(0, list(features[:2])), labels))\n",
        "lr_test_set = test_set.map(lambda features, labels: (tf.sparse.concat(0, list(features[:2])), labels))\n",
        "lr_val_set = val_set.map(lambda features, labels: (tf.sparse.concat(0, list(features[:2])), labels))"
      ]
    },
    {
      "cell_type": "code",
      "execution_count": 182,
      "metadata": {
        "id": "ArggqlJb2PO1"
      },
      "outputs": [
        {
          "name": "stdout",
          "output_type": "stream",
          "text": [
            "Model: \"model_12\"\n",
            "_________________________________________________________________\n",
            " Layer (type)                Output Shape              Param #   \n",
            "=================================================================\n",
            " input_33 (InputLayer)       [(None, 1187)]            0         \n",
            "                                                                 \n",
            " dense_32 (Dense)            (None, 1)                 1188      \n",
            "                                                                 \n",
            " tf.math.sigmoid_2 (TFOpLamb  (None, 1)                0         \n",
            " da)                                                             \n",
            "                                                                 \n",
            "=================================================================\n",
            "Total params: 1,188\n",
            "Trainable params: 1,188\n",
            "Non-trainable params: 0\n",
            "_________________________________________________________________\n"
          ]
        }
      ],
      "source": [
        "input = Input(shape = (students_shape[-1]+skills_shape[-1]), sparse=True)\n",
        "linear = Dense(1)\n",
        "output = activations.sigmoid(linear(input))\n",
        "lr_model = Model(inputs = input, outputs = output)\n",
        "optimizer = tf.optimizers.RMSprop()\n",
        "lr_model.compile(\n",
        "        optimizer = optimizer,\n",
        "        loss = tf.keras.losses.BinaryCrossentropy(from_logits=False),\n",
        "        metrics=\n",
        "            [\n",
        "            tf.keras.metrics.BinaryAccuracy(),\n",
        "            tf.keras.metrics.Precision(),\n",
        "            tf.keras.metrics.Recall(),\n",
        "            tf.keras.metrics.AUC()\n",
        "            ]\n",
        "    )\n",
        "lr_model.summary()"
      ]
    },
    {
      "cell_type": "code",
      "execution_count": 183,
      "metadata": {
        "colab": {
          "base_uri": "https://localhost:8080/"
        },
        "id": "Hv7KiLGXcGxI",
        "outputId": "afad52c3-602b-4fb8-856b-b70832005de6"
      },
      "outputs": [
        {
          "name": "stderr",
          "output_type": "stream",
          "text": [
            "c:\\Users\\globalpie\\Projects\\tensorflow_env\\lib\\site-packages\\tensorflow\\python\\framework\\indexed_slices.py:446: UserWarning: Converting sparse IndexedSlices(IndexedSlices(indices=Tensor(\"gradient_tape/model_12/dense_32/embedding_lookup_sparse/Reshape_1:0\", shape=(None,), dtype=int32), values=Tensor(\"gradient_tape/model_12/dense_32/embedding_lookup_sparse/Reshape:0\", shape=(None, 1), dtype=float32), dense_shape=Tensor(\"gradient_tape/model_12/dense_32/embedding_lookup_sparse/Cast:0\", shape=(2,), dtype=int32))) to a dense Tensor of unknown shape. This may consume a large amount of memory.\n",
            "  \"shape. This may consume a large amount of memory.\" % value)\n"
          ]
        }
      ],
      "source": [
        "epochs = 100\n",
        "batch_size = 4096*10\n",
        "lr_history = lr_model.fit(lr_train_set.batch(batch_size), epochs = epochs, validation_data=lr_val_set.batch(4096), verbose = 0)"
      ]
    },
    {
      "cell_type": "code",
      "execution_count": 185,
      "metadata": {},
      "outputs": [
        {
          "data": {
            "image/png": "[encoded data removed]",
            "text/plain": [
              "<Figure size 432x288 with 1 Axes>"
            ]
          },
          "metadata": {
            "needs_background": "light"
          },
          "output_type": "display_data"
        }
      ],
      "source": [
        "import matplotlib.pyplot as plt\n",
        "# Multiskill\n",
        "epochs = lr_history.epoch\n",
        "loss = lr_history.history['loss']\n",
        "val_loss = lr_history.history['val_loss']\n",
        "plt.plot(epochs, loss, label = 'loss')\n",
        "plt.plot(epochs, val_loss, label = 'val_loss')\n",
        "plt.legend()\n",
        "plt.grid()\n",
        "plt.show()"
      ]
    },
    {
      "cell_type": "code",
      "execution_count": 186,
      "metadata": {},
      "outputs": [
        {
          "name": "stdout",
          "output_type": "stream",
          "text": [
            "13/13 [==============================] - 2s 81ms/step - loss: 0.5953 - binary_accuracy: 0.6931 - precision_12: 0.6941 - recall_12: 0.9749 - auc_12: 0.6590\n"
          ]
        },
        {
          "data": {
            "text/plain": [
              "[0.5953290462493896,\n",
              " 0.6931435465812683,\n",
              " 0.6940887570381165,\n",
              " 0.9749173521995544,\n",
              " 0.6589823365211487]"
            ]
          },
          "execution_count": 186,
          "metadata": {},
          "output_type": "execute_result"
        }
      ],
      "source": [
        "lr_model.evaluate(lr_test_set.batch(4096))"
      ]
    },
    {
      "attachments": {},
      "cell_type": "markdown",
      "metadata": {},
      "source": [
        "## FM with students и skills"
      ]
    },
    {
      "cell_type": "code",
      "execution_count": 35,
      "metadata": {},
      "outputs": [],
      "source": [
        "def get_simple_fm(shape, k):\n",
        "    input = Input(shape = (shape,), sparse = True)\n",
        "    fm_output = SimpleFMClassifier(shape, k)(input)\n",
        "    simple_fm = tf.keras.models.Model(inputs = input, outputs = fm_output)\n",
        "    optimizer = tf.optimizers.RMSprop()\n",
        "    simple_fm.compile(\n",
        "        optimizer = optimizer,\n",
        "        loss = tf.keras.losses.BinaryCrossentropy(from_logits=False),\n",
        "        metrics=\n",
        "            [\n",
        "            tf.keras.metrics.BinaryAccuracy(),\n",
        "            tf.keras.metrics.Precision(),\n",
        "            tf.keras.metrics.Recall(),\n",
        "            tf.keras.metrics.AUC()\n",
        "            ]\n",
        "    )\n",
        "    return simple_fm"
      ]
    },
    {
      "cell_type": "code",
      "execution_count": 38,
      "metadata": {
        "colab": {
          "base_uri": "https://localhost:8080/"
        },
        "id": "TVddoBk3J_FA",
        "outputId": "fc53361b-fb94-4e41-f9be-c5d0f9618b2f"
      },
      "outputs": [
        {
          "name": "stderr",
          "output_type": "stream",
          "text": [
            "c:\\Users\\globalpie\\Projects\\tensorflow_env\\lib\\site-packages\\tensorflow\\python\\framework\\indexed_slices.py:446: UserWarning: Converting sparse IndexedSlices(IndexedSlices(indices=Tensor(\"gradient_tape/model_14/simple_fm_classifier_11/linear/embedding_lookup_sparse/Reshape_1:0\", shape=(None,), dtype=int32), values=Tensor(\"gradient_tape/model_14/simple_fm_classifier_11/linear/embedding_lookup_sparse/Reshape:0\", shape=(None, 1), dtype=float32), dense_shape=Tensor(\"gradient_tape/model_14/simple_fm_classifier_11/linear/embedding_lookup_sparse/Cast:0\", shape=(2,), dtype=int32))) to a dense Tensor of unknown shape. This may consume a large amount of memory.\n",
            "  \"shape. This may consume a large amount of memory.\" % value)\n",
            "c:\\Users\\globalpie\\Projects\\tensorflow_env\\lib\\site-packages\\tensorflow\\python\\framework\\indexed_slices.py:446: UserWarning: Converting sparse IndexedSlices(IndexedSlices(indices=Tensor(\"gradient_tape/model_15/simple_fm_classifier_12/linear/embedding_lookup_sparse/Reshape_1:0\", shape=(None,), dtype=int32), values=Tensor(\"gradient_tape/model_15/simple_fm_classifier_12/linear/embedding_lookup_sparse/Reshape:0\", shape=(None, 1), dtype=float32), dense_shape=Tensor(\"gradient_tape/model_15/simple_fm_classifier_12/linear/embedding_lookup_sparse/Cast:0\", shape=(2,), dtype=int32))) to a dense Tensor of unknown shape. This may consume a large amount of memory.\n",
            "  \"shape. This may consume a large amount of memory.\" % value)\n",
            "c:\\Users\\globalpie\\Projects\\tensorflow_env\\lib\\site-packages\\tensorflow\\python\\framework\\indexed_slices.py:446: UserWarning: Converting sparse IndexedSlices(IndexedSlices(indices=Tensor(\"gradient_tape/model_16/simple_fm_classifier_13/linear/embedding_lookup_sparse/Reshape_1:0\", shape=(None,), dtype=int32), values=Tensor(\"gradient_tape/model_16/simple_fm_classifier_13/linear/embedding_lookup_sparse/Reshape:0\", shape=(None, 1), dtype=float32), dense_shape=Tensor(\"gradient_tape/model_16/simple_fm_classifier_13/linear/embedding_lookup_sparse/Cast:0\", shape=(2,), dtype=int32))) to a dense Tensor of unknown shape. This may consume a large amount of memory.\n",
            "  \"shape. This may consume a large amount of memory.\" % value)\n"
          ]
        }
      ],
      "source": [
        "# import multiprocessing\n",
        "# import pickle\n",
        "epochs = 100\n",
        "batch_size = 4096*10\n",
        "shape = students_shape[-1] + skills_shape[-1]\n",
        "k_params = [2,5,10]\n",
        "two_fm_models = dict()\n",
        "for k in k_params:\n",
        "    two_fm = get_simple_fm(shape, k)\n",
        "    two_fm_models[k] = {'model': two_fm}\n",
        "    two_fm_history = two_fm.fit(lr_train_set.batch(batch_size), epochs = epochs, validation_data = lr_val_set.batch(4096), verbose = 0)\n",
        "    two_fm_models[k]['history'] = two_fm_history"
      ]
    },
    {
      "cell_type": "code",
      "execution_count": 39,
      "metadata": {},
      "outputs": [
        {
          "data": {
            "image/png": "[encoded data removed]",
            "text/plain": [
              "<Figure size 1440x360 with 3 Axes>"
            ]
          },
          "metadata": {
            "needs_background": "light"
          },
          "output_type": "display_data"
        }
      ],
      "source": [
        "import matplotlib.pyplot as plt\n",
        "# Multiskill\n",
        "plt.figure(figsize=[20, 5])\n",
        "for i,k in enumerate(k_params):\n",
        "    plt.subplot(1,len(k_params), i+1)\n",
        "    history = two_fm_models[k]['history']\n",
        "    epochs = history.epoch\n",
        "    loss = history.history['loss']\n",
        "    val_loss = history.history['val_loss']\n",
        "    plt.plot(epochs, loss, label = f'{k}: loss')\n",
        "    plt.plot(epochs, val_loss, label = f'{k}: val_loss')\n",
        "    plt.legend()\n",
        "    plt.grid()\n",
        "plt.show()"
      ]
    },
    {
      "cell_type": "code",
      "execution_count": 40,
      "metadata": {},
      "outputs": [
        {
          "name": "stdout",
          "output_type": "stream",
          "text": [
            "2:\n",
            "13/13 [==============================] - 2s 74ms/step - loss: 0.5937 - binary_accuracy: 0.6955 - precision_14: 0.6956 - recall_14: 0.9734 - auc_14: 0.6685\n",
            "[0.5936562418937683, 0.6955476403236389, 0.6955846548080444, 0.973380982875824, 0.6684637069702148]\n",
            "5:\n",
            "13/13 [==============================] - 2s 73ms/step - loss: 0.5877 - binary_accuracy: 0.7021 - precision_15: 0.7064 - recall_15: 0.9566 - auc_15: 0.6695\n",
            "[0.5876737236976624, 0.7020867466926575, 0.7064449787139893, 0.9565922617912292, 0.6694678664207458]\n",
            "10:\n",
            "13/13 [==============================] - 2s 73ms/step - loss: 0.5874 - binary_accuracy: 0.7004 - precision_16: 0.7055 - recall_16: 0.9529 - auc_16: 0.6709\n",
            "[0.5873655676841736, 0.7003750205039978, 0.7054905891418457, 0.9529099464416504, 0.6709358096122742]\n"
          ]
        }
      ],
      "source": [
        "for i, k in enumerate(k_params):\n",
        "    print(f'{k}:')\n",
        "    print(two_fm_models[k]['model'].evaluate(lr_test_set.batch(4096)))"
      ]
    }
  ],
  "metadata": {
    "accelerator": "GPU",
    "colab": {
      "provenance": []
    },
    "gpuClass": "standard",
    "kernelspec": {
      "display_name": "tensorflow_env",
      "language": "python",
      "name": "tensorflow_env"
    },
    "language_info": {
      "codemirror_mode": {
        "name": "ipython",
        "version": 3
      },
      "file_extension": ".py",
      "mimetype": "text/x-python",
      "name": "python",
      "nbconvert_exporter": "python",
      "pygments_lexer": "ipython3",
      "version": "3.7.7"
    },
    "orig_nbformat": 4,
    "vscode": {
      "interpreter": {
        "hash": "3edb10ffa0313b44451113615d01e3f9ef4516c6c06c4dbf7fb7126d4eb6d452"
      }
    }
  },
  "nbformat": 4,
  "nbformat_minor": 0
}
